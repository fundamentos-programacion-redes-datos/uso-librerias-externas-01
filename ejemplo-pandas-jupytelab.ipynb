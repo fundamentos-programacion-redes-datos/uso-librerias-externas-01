{
 "cells": [
  {
   "cell_type": "code",
   "execution_count": 1,
   "id": "7c29aea0-4a96-420e-86ef-16ca4fa02591",
   "metadata": {},
   "outputs": [],
   "source": [
    "# Se importa el módulo y se le asigan un alias\n",
    "# pd\n",
    "import pandas as pd"
   ]
  },
  {
   "cell_type": "code",
   "execution_count": 2,
   "id": "71786f5a-d59f-4de3-8014-5ca2aa1ea041",
   "metadata": {},
   "outputs": [],
   "source": [
    "# Crear un DataFrame con datos de estudiantes\n",
    "# Se crea un diccionario de datos.\n",
    "data = {\n",
    "    \"Nombre\": [\"Ana\", \"Juan\", \"Pedro\"],\n",
    "    \"Edad\": [20, 22, 21],\n",
    "    \"Calificacion\": [90, 85, 88]\n",
    "}"
   ]
  },
  {
   "cell_type": "code",
   "execution_count": 5,
   "id": "4284ae8f-7b37-424f-ab32-67d9c5bd12da",
   "metadata": {},
   "outputs": [
    {
     "data": {
      "text/html": [
       "<div>\n",
       "<style scoped>\n",
       "    .dataframe tbody tr th:only-of-type {\n",
       "        vertical-align: middle;\n",
       "    }\n",
       "\n",
       "    .dataframe tbody tr th {\n",
       "        vertical-align: top;\n",
       "    }\n",
       "\n",
       "    .dataframe thead th {\n",
       "        text-align: right;\n",
       "    }\n",
       "</style>\n",
       "<table border=\"1\" class=\"dataframe\">\n",
       "  <thead>\n",
       "    <tr style=\"text-align: right;\">\n",
       "      <th></th>\n",
       "      <th>Nombre</th>\n",
       "      <th>Edad</th>\n",
       "      <th>Calificacion</th>\n",
       "    </tr>\n",
       "  </thead>\n",
       "  <tbody>\n",
       "    <tr>\n",
       "      <th>0</th>\n",
       "      <td>Ana</td>\n",
       "      <td>20</td>\n",
       "      <td>90</td>\n",
       "    </tr>\n",
       "    <tr>\n",
       "      <th>1</th>\n",
       "      <td>Juan</td>\n",
       "      <td>22</td>\n",
       "      <td>85</td>\n",
       "    </tr>\n",
       "    <tr>\n",
       "      <th>2</th>\n",
       "      <td>Pedro</td>\n",
       "      <td>21</td>\n",
       "      <td>88</td>\n",
       "    </tr>\n",
       "  </tbody>\n",
       "</table>\n",
       "</div>"
      ],
      "text/plain": [
       "  Nombre  Edad  Calificacion\n",
       "0    Ana    20            90\n",
       "1   Juan    22            85\n",
       "2  Pedro    21            88"
      ]
     },
     "execution_count": 5,
     "metadata": {},
     "output_type": "execute_result"
    }
   ],
   "source": [
    "# Se crea la estructura DataFrame con el valor de data\n",
    "df = pd.DataFrame(data)\n",
    "\n",
    "# Mostrar el DataFrame en pantalla\n",
    "df\n"
   ]
  },
  {
   "cell_type": "code",
   "execution_count": 4,
   "id": "3fdcbb7f-e358-4c1f-ba20-92e24c11f956",
   "metadata": {},
   "outputs": [
    {
     "name": "stdout",
     "output_type": "stream",
     "text": [
      "Media de calificaciones: 87.67\n"
     ]
    }
   ],
   "source": [
    "# Calcular la media de calificaciones, haciendo uso de la \n",
    "# función mean a la columna de calificaciones\n",
    "#\n",
    "print(f'Media de calificaciones: {df[\"Calificacion\"].mean():.2f}')\n"
   ]
  }
 ],
 "metadata": {
  "kernelspec": {
   "display_name": "Python 3 (ipykernel)",
   "language": "python",
   "name": "python3"
  },
  "language_info": {
   "codemirror_mode": {
    "name": "ipython",
    "version": 3
   },
   "file_extension": ".py",
   "mimetype": "text/x-python",
   "name": "python",
   "nbconvert_exporter": "python",
   "pygments_lexer": "ipython3",
   "version": "3.10.12"
  }
 },
 "nbformat": 4,
 "nbformat_minor": 5
}
